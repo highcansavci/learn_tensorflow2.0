{
  "nbformat": 4,
  "nbformat_minor": 0,
  "metadata": {
    "colab": {
      "provenance": []
    },
    "kernelspec": {
      "name": "python3",
      "display_name": "Python 3"
    },
    "language_info": {
      "name": "python"
    }
  },
  "cells": [
    {
      "cell_type": "code",
      "execution_count": 2,
      "metadata": {
        "colab": {
          "base_uri": "https://localhost:8080/"
        },
        "id": "Yx4K04kZE52q",
        "outputId": "56699cfc-e5ad-4fe8-94fe-783adc3b6697"
      },
      "outputs": [
        {
          "output_type": "stream",
          "name": "stdout",
          "text": [
            "2.13.0\n"
          ]
        }
      ],
      "source": [
        "import tensorflow as tf\n",
        "print(tf.__version__)"
      ]
    },
    {
      "cell_type": "code",
      "source": [
        "from sklearn.datasets import load_diabetes"
      ],
      "metadata": {
        "id": "yrdZEmq7FJdW"
      },
      "execution_count": 28,
      "outputs": []
    },
    {
      "cell_type": "code",
      "source": [
        "data = load_diabetes()"
      ],
      "metadata": {
        "id": "0YPsQfWUFpeO"
      },
      "execution_count": 29,
      "outputs": []
    },
    {
      "cell_type": "code",
      "source": [
        "from sklearn.model_selection import train_test_split"
      ],
      "metadata": {
        "id": "Vk4HyC-_FuUp"
      },
      "execution_count": 30,
      "outputs": []
    },
    {
      "cell_type": "code",
      "source": [
        "X_train, X_test, y_train, y_test = train_test_split(data.data, data.target, test_size=0.33)"
      ],
      "metadata": {
        "id": "lMB7KJWNGYSj"
      },
      "execution_count": 31,
      "outputs": []
    },
    {
      "cell_type": "code",
      "source": [
        "N, D = X_train.shape"
      ],
      "metadata": {
        "id": "-8v8veddGpBD"
      },
      "execution_count": 32,
      "outputs": []
    },
    {
      "cell_type": "code",
      "source": [
        "N, D"
      ],
      "metadata": {
        "colab": {
          "base_uri": "https://localhost:8080/"
        },
        "id": "l9X-tr_XGyve",
        "outputId": "adf00ad7-d0ee-4d7d-ae8a-4eb948c96900"
      },
      "execution_count": 33,
      "outputs": [
        {
          "output_type": "execute_result",
          "data": {
            "text/plain": [
              "(296, 10)"
            ]
          },
          "metadata": {},
          "execution_count": 33
        }
      ]
    },
    {
      "cell_type": "code",
      "source": [
        "model = tf.keras.models.Sequential([\n",
        "    tf.keras.layers.Input(shape=(D, )),\n",
        "    tf.keras.layers.Dense(1)\n",
        "])"
      ],
      "metadata": {
        "id": "S6aPlGcyHaw6"
      },
      "execution_count": 34,
      "outputs": []
    },
    {
      "cell_type": "code",
      "source": [
        "# model = tf.keras.models.Sequential()\n",
        "# model.add(tf.keras.layers.Dense(1, input_shape=(D, )))"
      ],
      "metadata": {
        "id": "GOGok1roIJH9"
      },
      "execution_count": 35,
      "outputs": []
    },
    {
      "cell_type": "code",
      "source": [
        "model.compile(optimizer=\"adam\",\n",
        "              loss=\"mse\")"
      ],
      "metadata": {
        "id": "n-EMtmYgIZrE"
      },
      "execution_count": 36,
      "outputs": []
    },
    {
      "cell_type": "code",
      "source": [
        "def scheduler(epoch):\n",
        "  if epoch >= 10000:\n",
        "    return 0.01\n",
        "  return 0.1\n",
        "\n",
        "scheduler = tf.keras.callbacks.LearningRateScheduler(scheduler)"
      ],
      "metadata": {
        "id": "yU_EjiTdRJIi"
      },
      "execution_count": 43,
      "outputs": []
    },
    {
      "cell_type": "code",
      "source": [
        "class Callback(tf.keras.callbacks.Callback):\n",
        "    SHOW_NUMBER = 1000\n",
        "    counter = 0\n",
        "    epoch = 0\n",
        "\n",
        "    def on_epoch_begin(self, epoch, logs=None):\n",
        "        self.epoch = epoch\n",
        "\n",
        "    def on_train_batch_end(self, batch, logs=None):\n",
        "        if self.counter == self.SHOW_NUMBER or self.epoch == 1:\n",
        "            print('Epoch: ' + str(self.epoch) + ' loss: ' + str(logs['loss']))\n",
        "            if self.epoch > 1:\n",
        "                self.counter = 0\n",
        "        self.counter += 1"
      ],
      "metadata": {
        "id": "UoSXAzRKVjMG"
      },
      "execution_count": 49,
      "outputs": []
    },
    {
      "cell_type": "code",
      "source": [
        "out_batch = Callback()\n",
        "r = model.fit(X_train, y_train, validation_data=(X_test, y_test), callbacks=[scheduler, out_batch], epochs=50000, verbose=0)"
      ],
      "metadata": {
        "colab": {
          "base_uri": "https://localhost:8080/"
        },
        "id": "y8qrL_DOI8zK",
        "outputId": "ac49281f-139d-4ccd-b393-9889f1dd685d"
      },
      "execution_count": 51,
      "outputs": [
        {
          "output_type": "stream",
          "name": "stdout",
          "text": [
            "Epoch: 1 loss: 2755.23583984375\n",
            "Epoch: 1 loss: 2254.34375\n",
            "Epoch: 1 loss: 2239.0\n",
            "Epoch: 1 loss: 2506.235107421875\n",
            "Epoch: 1 loss: 2738.584716796875\n",
            "Epoch: 1 loss: 2872.218505859375\n",
            "Epoch: 1 loss: 2979.098876953125\n",
            "Epoch: 1 loss: 3062.30615234375\n",
            "Epoch: 1 loss: 3137.0498046875\n",
            "Epoch: 1 loss: 3140.94189453125\n",
            "Epoch: 100 loss: 2189.163818359375\n",
            "Epoch: 200 loss: 4140.896484375\n",
            "Epoch: 300 loss: 2976.03857421875\n",
            "Epoch: 400 loss: 2820.25\n",
            "Epoch: 500 loss: 1397.46630859375\n",
            "Epoch: 600 loss: 2498.49658203125\n",
            "Epoch: 700 loss: 1882.3857421875\n",
            "Epoch: 800 loss: 2653.0458984375\n",
            "Epoch: 900 loss: 3135.40087890625\n",
            "Epoch: 1000 loss: 2773.4140625\n",
            "Epoch: 1100 loss: 3098.547607421875\n",
            "Epoch: 1200 loss: 3088.736328125\n",
            "Epoch: 1300 loss: 2767.02490234375\n",
            "Epoch: 1400 loss: 2299.474365234375\n",
            "Epoch: 1500 loss: 2149.083251953125\n",
            "Epoch: 1600 loss: 2820.5927734375\n",
            "Epoch: 1700 loss: 3163.33740234375\n",
            "Epoch: 1800 loss: 2877.6748046875\n",
            "Epoch: 1900 loss: 2926.509765625\n",
            "Epoch: 2000 loss: 4410.8994140625\n",
            "Epoch: 2100 loss: 3220.724609375\n",
            "Epoch: 2200 loss: 3600.792724609375\n",
            "Epoch: 2300 loss: 3720.757568359375\n",
            "Epoch: 2400 loss: 2606.83154296875\n",
            "Epoch: 2500 loss: 3502.793212890625\n",
            "Epoch: 2600 loss: 3067.189453125\n",
            "Epoch: 2700 loss: 2090.20263671875\n",
            "Epoch: 2800 loss: 2154.458251953125\n",
            "Epoch: 2900 loss: 2114.958740234375\n",
            "Epoch: 3000 loss: 4219.8642578125\n",
            "Epoch: 3100 loss: 2274.065673828125\n",
            "Epoch: 3200 loss: 2090.427978515625\n",
            "Epoch: 3300 loss: 2231.1669921875\n",
            "Epoch: 3400 loss: 3098.288818359375\n",
            "Epoch: 3500 loss: 2917.55419921875\n",
            "Epoch: 3600 loss: 3147.35693359375\n",
            "Epoch: 3700 loss: 2322.31689453125\n",
            "Epoch: 3800 loss: 1506.265380859375\n",
            "Epoch: 3900 loss: 1952.80908203125\n",
            "Epoch: 4000 loss: 3129.6669921875\n",
            "Epoch: 4100 loss: 2711.92041015625\n",
            "Epoch: 4200 loss: 2866.1025390625\n",
            "Epoch: 4300 loss: 3744.8447265625\n",
            "Epoch: 4400 loss: 2158.8671875\n",
            "Epoch: 4500 loss: 2626.08154296875\n",
            "Epoch: 4600 loss: 3434.829833984375\n",
            "Epoch: 4700 loss: 2755.209228515625\n",
            "Epoch: 4800 loss: 2350.80859375\n",
            "Epoch: 4900 loss: 3150.43408203125\n",
            "Epoch: 5000 loss: 1709.29833984375\n",
            "Epoch: 5100 loss: 2781.4638671875\n",
            "Epoch: 5200 loss: 2483.083251953125\n",
            "Epoch: 5300 loss: 2865.017578125\n",
            "Epoch: 5400 loss: 2755.401123046875\n",
            "Epoch: 5500 loss: 3037.58935546875\n",
            "Epoch: 5600 loss: 2049.646484375\n",
            "Epoch: 5700 loss: 2618.378662109375\n",
            "Epoch: 5800 loss: 2357.70556640625\n",
            "Epoch: 5900 loss: 1872.61865234375\n",
            "Epoch: 6000 loss: 2549.753173828125\n",
            "Epoch: 6100 loss: 3493.888671875\n",
            "Epoch: 6200 loss: 2233.265380859375\n",
            "Epoch: 6300 loss: 2431.065185546875\n",
            "Epoch: 6400 loss: 2732.1279296875\n",
            "Epoch: 6500 loss: 3299.2802734375\n",
            "Epoch: 6600 loss: 3627.859619140625\n",
            "Epoch: 6700 loss: 2210.391845703125\n",
            "Epoch: 6800 loss: 1134.0244140625\n",
            "Epoch: 6900 loss: 2704.18798828125\n",
            "Epoch: 7000 loss: 3159.0361328125\n",
            "Epoch: 7100 loss: 3154.41357421875\n",
            "Epoch: 7200 loss: 2267.50048828125\n",
            "Epoch: 7300 loss: 3510.150390625\n",
            "Epoch: 7400 loss: 2545.6611328125\n",
            "Epoch: 7500 loss: 3774.5693359375\n",
            "Epoch: 7600 loss: 1830.310546875\n",
            "Epoch: 7700 loss: 1759.41943359375\n",
            "Epoch: 7800 loss: 2554.8798828125\n",
            "Epoch: 7900 loss: 1651.030517578125\n",
            "Epoch: 8000 loss: 2662.93310546875\n",
            "Epoch: 8100 loss: 2376.89892578125\n",
            "Epoch: 8200 loss: 2574.268798828125\n",
            "Epoch: 8300 loss: 2359.639892578125\n",
            "Epoch: 8400 loss: 1679.83544921875\n",
            "Epoch: 8500 loss: 2721.13623046875\n",
            "Epoch: 8600 loss: 2570.2626953125\n",
            "Epoch: 8700 loss: 3941.97509765625\n",
            "Epoch: 8800 loss: 1573.8563232421875\n",
            "Epoch: 8900 loss: 1955.5184326171875\n",
            "Epoch: 9000 loss: 2170.58935546875\n",
            "Epoch: 9100 loss: 3194.19580078125\n",
            "Epoch: 9200 loss: 3602.160400390625\n",
            "Epoch: 9300 loss: 2960.625732421875\n",
            "Epoch: 9400 loss: 1772.8740234375\n",
            "Epoch: 9500 loss: 2877.5693359375\n",
            "Epoch: 9600 loss: 2546.426025390625\n",
            "Epoch: 9700 loss: 2028.1053466796875\n",
            "Epoch: 9800 loss: 4014.716064453125\n",
            "Epoch: 9900 loss: 2282.613037109375\n",
            "Epoch: 10000 loss: 4741.9736328125\n",
            "Epoch: 10100 loss: 2665.191650390625\n",
            "Epoch: 10200 loss: 2196.9970703125\n",
            "Epoch: 10300 loss: 2227.22900390625\n",
            "Epoch: 10400 loss: 2187.36376953125\n",
            "Epoch: 10500 loss: 1927.52783203125\n",
            "Epoch: 10600 loss: 2552.319091796875\n",
            "Epoch: 10700 loss: 2815.713623046875\n",
            "Epoch: 10800 loss: 3162.350341796875\n",
            "Epoch: 10900 loss: 2429.93798828125\n",
            "Epoch: 11000 loss: 1925.246337890625\n",
            "Epoch: 11100 loss: 2304.4794921875\n",
            "Epoch: 11200 loss: 2602.36376953125\n",
            "Epoch: 11300 loss: 2153.8408203125\n",
            "Epoch: 11400 loss: 1727.10546875\n",
            "Epoch: 11500 loss: 2773.418701171875\n",
            "Epoch: 11600 loss: 2466.636474609375\n",
            "Epoch: 11700 loss: 2171.746337890625\n",
            "Epoch: 11800 loss: 3183.721923828125\n",
            "Epoch: 11900 loss: 2861.99169921875\n",
            "Epoch: 12000 loss: 3193.986083984375\n",
            "Epoch: 12100 loss: 2429.176513671875\n",
            "Epoch: 12200 loss: 3227.38037109375\n",
            "Epoch: 12300 loss: 2645.546875\n",
            "Epoch: 12400 loss: 2277.834228515625\n",
            "Epoch: 12500 loss: 2476.08251953125\n",
            "Epoch: 12600 loss: 3187.213623046875\n",
            "Epoch: 12700 loss: 2742.91162109375\n",
            "Epoch: 12800 loss: 2723.11865234375\n",
            "Epoch: 12900 loss: 3647.3203125\n",
            "Epoch: 13000 loss: 2139.12158203125\n",
            "Epoch: 13100 loss: 3195.3369140625\n",
            "Epoch: 13200 loss: 3379.052734375\n",
            "Epoch: 13300 loss: 2728.391845703125\n",
            "Epoch: 13400 loss: 2000.2940673828125\n",
            "Epoch: 13500 loss: 2208.22412109375\n",
            "Epoch: 13600 loss: 2650.37939453125\n",
            "Epoch: 13700 loss: 1855.807861328125\n",
            "Epoch: 13800 loss: 3138.447021484375\n",
            "Epoch: 13900 loss: 2801.306640625\n",
            "Epoch: 14000 loss: 2361.4775390625\n",
            "Epoch: 14100 loss: 2340.572509765625\n",
            "Epoch: 14200 loss: 2300.00048828125\n",
            "Epoch: 14300 loss: 3285.3974609375\n",
            "Epoch: 14400 loss: 2608.806884765625\n",
            "Epoch: 14500 loss: 2116.626953125\n",
            "Epoch: 14600 loss: 3252.402587890625\n",
            "Epoch: 14700 loss: 2714.865234375\n",
            "Epoch: 14800 loss: 2325.60009765625\n",
            "Epoch: 14900 loss: 2035.50390625\n",
            "Epoch: 15000 loss: 3578.87109375\n",
            "Epoch: 15100 loss: 2906.95849609375\n",
            "Epoch: 15200 loss: 1642.477783203125\n",
            "Epoch: 15300 loss: 4791.0166015625\n",
            "Epoch: 15400 loss: 2458.7373046875\n",
            "Epoch: 15500 loss: 2875.83447265625\n",
            "Epoch: 15600 loss: 2219.3134765625\n",
            "Epoch: 15700 loss: 3018.837158203125\n",
            "Epoch: 15800 loss: 2811.66015625\n",
            "Epoch: 15900 loss: 2516.31787109375\n",
            "Epoch: 16000 loss: 2062.96484375\n",
            "Epoch: 16100 loss: 2710.406982421875\n",
            "Epoch: 16200 loss: 1998.265380859375\n",
            "Epoch: 16300 loss: 2608.020751953125\n",
            "Epoch: 16400 loss: 2570.23388671875\n",
            "Epoch: 16500 loss: 2769.83251953125\n",
            "Epoch: 16600 loss: 3346.6171875\n",
            "Epoch: 16700 loss: 2979.68115234375\n",
            "Epoch: 16800 loss: 1696.6728515625\n",
            "Epoch: 16900 loss: 3427.533447265625\n",
            "Epoch: 17000 loss: 3279.053466796875\n",
            "Epoch: 17100 loss: 3230.2392578125\n",
            "Epoch: 17200 loss: 2791.368408203125\n",
            "Epoch: 17300 loss: 3104.052001953125\n",
            "Epoch: 17400 loss: 2635.380859375\n",
            "Epoch: 17500 loss: 3373.54638671875\n",
            "Epoch: 17600 loss: 3367.427734375\n",
            "Epoch: 17700 loss: 3062.293701171875\n",
            "Epoch: 17800 loss: 3006.45068359375\n",
            "Epoch: 17900 loss: 2945.8359375\n",
            "Epoch: 18000 loss: 1336.54736328125\n",
            "Epoch: 18100 loss: 2722.327880859375\n",
            "Epoch: 18200 loss: 2893.275390625\n",
            "Epoch: 18300 loss: 2730.77734375\n",
            "Epoch: 18400 loss: 2318.577880859375\n",
            "Epoch: 18500 loss: 1775.6307373046875\n",
            "Epoch: 18600 loss: 2663.65283203125\n",
            "Epoch: 18700 loss: 2866.832763671875\n",
            "Epoch: 18800 loss: 1656.213134765625\n",
            "Epoch: 18900 loss: 2967.49658203125\n",
            "Epoch: 19000 loss: 3645.0166015625\n",
            "Epoch: 19100 loss: 2541.89306640625\n",
            "Epoch: 19200 loss: 1981.8642578125\n",
            "Epoch: 19300 loss: 3242.79833984375\n",
            "Epoch: 19400 loss: 3753.334716796875\n",
            "Epoch: 19500 loss: 2344.65869140625\n",
            "Epoch: 19600 loss: 2964.4443359375\n",
            "Epoch: 19700 loss: 2401.589599609375\n",
            "Epoch: 19800 loss: 3060.68505859375\n",
            "Epoch: 19900 loss: 3290.2783203125\n",
            "Epoch: 20000 loss: 2319.0185546875\n",
            "Epoch: 20100 loss: 2192.701171875\n",
            "Epoch: 20200 loss: 3255.196533203125\n",
            "Epoch: 20300 loss: 3712.646728515625\n",
            "Epoch: 20400 loss: 2978.43505859375\n",
            "Epoch: 20500 loss: 2759.0625\n",
            "Epoch: 20600 loss: 2723.08837890625\n",
            "Epoch: 20700 loss: 3159.006103515625\n",
            "Epoch: 20800 loss: 2068.41650390625\n",
            "Epoch: 20900 loss: 2964.64990234375\n",
            "Epoch: 21000 loss: 2904.591552734375\n",
            "Epoch: 21100 loss: 2232.56494140625\n",
            "Epoch: 21200 loss: 3850.85009765625\n",
            "Epoch: 21300 loss: 2983.962890625\n",
            "Epoch: 21400 loss: 3054.13134765625\n",
            "Epoch: 21500 loss: 2187.55224609375\n",
            "Epoch: 21600 loss: 2572.37060546875\n",
            "Epoch: 21700 loss: 2218.173828125\n",
            "Epoch: 21800 loss: 2488.9248046875\n",
            "Epoch: 21900 loss: 1755.53857421875\n",
            "Epoch: 22000 loss: 2058.369140625\n",
            "Epoch: 22100 loss: 2320.899658203125\n",
            "Epoch: 22200 loss: 1877.396240234375\n",
            "Epoch: 22300 loss: 2367.431640625\n",
            "Epoch: 22400 loss: 2881.970703125\n",
            "Epoch: 22500 loss: 2262.45654296875\n",
            "Epoch: 22600 loss: 2328.095703125\n",
            "Epoch: 22700 loss: 2865.037353515625\n",
            "Epoch: 22800 loss: 2847.13427734375\n",
            "Epoch: 22900 loss: 3697.46826171875\n",
            "Epoch: 23000 loss: 1536.848388671875\n",
            "Epoch: 23100 loss: 1321.363037109375\n",
            "Epoch: 23200 loss: 2783.03271484375\n",
            "Epoch: 23300 loss: 3080.7138671875\n",
            "Epoch: 23400 loss: 4468.064453125\n",
            "Epoch: 23500 loss: 3113.939453125\n",
            "Epoch: 23600 loss: 2900.533447265625\n",
            "Epoch: 23700 loss: 1910.375\n",
            "Epoch: 23800 loss: 3638.77099609375\n",
            "Epoch: 23900 loss: 3344.659912109375\n",
            "Epoch: 24000 loss: 3277.511962890625\n",
            "Epoch: 24100 loss: 2032.8466796875\n",
            "Epoch: 24200 loss: 2633.018310546875\n",
            "Epoch: 24300 loss: 3839.431640625\n",
            "Epoch: 24400 loss: 2481.39453125\n",
            "Epoch: 24500 loss: 3193.802978515625\n",
            "Epoch: 24600 loss: 2275.184814453125\n",
            "Epoch: 24700 loss: 2726.53271484375\n",
            "Epoch: 24800 loss: 5231.2109375\n",
            "Epoch: 24900 loss: 2953.977294921875\n",
            "Epoch: 25000 loss: 1952.669677734375\n",
            "Epoch: 25100 loss: 2321.773681640625\n",
            "Epoch: 25200 loss: 2874.720703125\n",
            "Epoch: 25300 loss: 2791.68896484375\n",
            "Epoch: 25400 loss: 3327.51123046875\n",
            "Epoch: 25500 loss: 2906.0537109375\n",
            "Epoch: 25600 loss: 2811.28271484375\n",
            "Epoch: 25700 loss: 3790.62939453125\n",
            "Epoch: 25800 loss: 2086.802734375\n",
            "Epoch: 25900 loss: 2273.993408203125\n",
            "Epoch: 26000 loss: 2903.47412109375\n",
            "Epoch: 26100 loss: 3158.4697265625\n",
            "Epoch: 26200 loss: 1780.9599609375\n",
            "Epoch: 26300 loss: 3811.6943359375\n",
            "Epoch: 26400 loss: 2359.869140625\n",
            "Epoch: 26500 loss: 2575.8759765625\n",
            "Epoch: 26600 loss: 3556.982421875\n",
            "Epoch: 26700 loss: 2362.109375\n",
            "Epoch: 26800 loss: 2238.370361328125\n",
            "Epoch: 26900 loss: 2512.440185546875\n",
            "Epoch: 27000 loss: 1994.26318359375\n",
            "Epoch: 27100 loss: 2438.208984375\n",
            "Epoch: 27200 loss: 2233.149658203125\n",
            "Epoch: 27300 loss: 2591.007080078125\n",
            "Epoch: 27400 loss: 2470.26953125\n",
            "Epoch: 27500 loss: 2855.494140625\n",
            "Epoch: 27600 loss: 3300.16064453125\n",
            "Epoch: 27700 loss: 3616.193603515625\n",
            "Epoch: 27800 loss: 2955.93359375\n",
            "Epoch: 27900 loss: 2273.86181640625\n",
            "Epoch: 28000 loss: 1603.6712646484375\n",
            "Epoch: 28100 loss: 3453.69873046875\n",
            "Epoch: 28200 loss: 2362.427734375\n",
            "Epoch: 28300 loss: 2647.17822265625\n",
            "Epoch: 28400 loss: 2063.498291015625\n",
            "Epoch: 28500 loss: 2908.005615234375\n",
            "Epoch: 28600 loss: 1885.7119140625\n",
            "Epoch: 28700 loss: 4000.38525390625\n",
            "Epoch: 28800 loss: 4288.58544921875\n",
            "Epoch: 28900 loss: 2512.568359375\n",
            "Epoch: 29000 loss: 3230.71337890625\n",
            "Epoch: 29100 loss: 1973.1619873046875\n",
            "Epoch: 29200 loss: 3026.521484375\n",
            "Epoch: 29300 loss: 2897.416259765625\n",
            "Epoch: 29400 loss: 2465.48779296875\n",
            "Epoch: 29500 loss: 2201.03955078125\n",
            "Epoch: 29600 loss: 1981.7120361328125\n",
            "Epoch: 29700 loss: 3100.819580078125\n",
            "Epoch: 29800 loss: 3361.33984375\n",
            "Epoch: 29900 loss: 3223.939453125\n",
            "Epoch: 30000 loss: 3611.24072265625\n",
            "Epoch: 30100 loss: 3634.76123046875\n",
            "Epoch: 30200 loss: 2970.897216796875\n",
            "Epoch: 30300 loss: 2886.572021484375\n",
            "Epoch: 30400 loss: 2357.2333984375\n",
            "Epoch: 30500 loss: 2435.125\n",
            "Epoch: 30600 loss: 3465.87744140625\n",
            "Epoch: 30700 loss: 2478.3173828125\n",
            "Epoch: 30800 loss: 2433.6181640625\n",
            "Epoch: 30900 loss: 2509.432373046875\n",
            "Epoch: 31000 loss: 2490.9111328125\n",
            "Epoch: 31100 loss: 2230.974609375\n",
            "Epoch: 31200 loss: 2459.9033203125\n",
            "Epoch: 31300 loss: 3974.40234375\n",
            "Epoch: 31400 loss: 2999.36669921875\n",
            "Epoch: 31500 loss: 2475.371337890625\n",
            "Epoch: 31600 loss: 2354.3505859375\n",
            "Epoch: 31700 loss: 2048.50732421875\n",
            "Epoch: 31800 loss: 2480.790283203125\n",
            "Epoch: 31900 loss: 2977.29443359375\n",
            "Epoch: 32000 loss: 3598.28466796875\n",
            "Epoch: 32100 loss: 2207.421875\n",
            "Epoch: 32200 loss: 3163.054443359375\n",
            "Epoch: 32300 loss: 2174.009033203125\n",
            "Epoch: 32400 loss: 2330.321044921875\n",
            "Epoch: 32500 loss: 3717.97021484375\n",
            "Epoch: 32600 loss: 1952.6015625\n",
            "Epoch: 32700 loss: 2451.28076171875\n",
            "Epoch: 32800 loss: 4007.96337890625\n",
            "Epoch: 32900 loss: 2788.2958984375\n",
            "Epoch: 33000 loss: 3650.31494140625\n",
            "Epoch: 33100 loss: 2641.541259765625\n",
            "Epoch: 33200 loss: 2619.439453125\n",
            "Epoch: 33300 loss: 2589.817138671875\n",
            "Epoch: 33400 loss: 2318.841796875\n",
            "Epoch: 33500 loss: 2333.283203125\n",
            "Epoch: 33600 loss: 3012.84326171875\n",
            "Epoch: 33700 loss: 2227.49755859375\n",
            "Epoch: 33800 loss: 1615.2213134765625\n",
            "Epoch: 33900 loss: 2240.67431640625\n",
            "Epoch: 34000 loss: 3494.699462890625\n",
            "Epoch: 34100 loss: 1885.4014892578125\n",
            "Epoch: 34200 loss: 2163.93505859375\n",
            "Epoch: 34300 loss: 4316.1845703125\n",
            "Epoch: 34400 loss: 2422.95849609375\n",
            "Epoch: 34500 loss: 2313.513671875\n",
            "Epoch: 34600 loss: 2828.476318359375\n",
            "Epoch: 34700 loss: 2794.44091796875\n",
            "Epoch: 34800 loss: 3246.9580078125\n",
            "Epoch: 34900 loss: 2542.654052734375\n",
            "Epoch: 35000 loss: 2645.582275390625\n",
            "Epoch: 35100 loss: 3355.28759765625\n",
            "Epoch: 35200 loss: 2231.07080078125\n",
            "Epoch: 35300 loss: 1940.7120361328125\n",
            "Epoch: 35400 loss: 3076.919189453125\n",
            "Epoch: 35500 loss: 2522.095947265625\n",
            "Epoch: 35600 loss: 2955.92529296875\n",
            "Epoch: 35700 loss: 3393.862060546875\n",
            "Epoch: 35800 loss: 3212.06201171875\n",
            "Epoch: 35900 loss: 3310.6767578125\n",
            "Epoch: 36000 loss: 2248.609130859375\n",
            "Epoch: 36100 loss: 3220.034912109375\n",
            "Epoch: 36200 loss: 2375.80615234375\n",
            "Epoch: 36300 loss: 1719.82568359375\n",
            "Epoch: 36400 loss: 3268.747314453125\n",
            "Epoch: 36500 loss: 2248.02197265625\n",
            "Epoch: 36600 loss: 1931.892578125\n",
            "Epoch: 36700 loss: 3910.716796875\n",
            "Epoch: 36800 loss: 2979.950927734375\n",
            "Epoch: 36900 loss: 2922.9443359375\n",
            "Epoch: 37000 loss: 2997.935546875\n",
            "Epoch: 37100 loss: 1949.582763671875\n",
            "Epoch: 37200 loss: 2087.294189453125\n",
            "Epoch: 37300 loss: 2437.471923828125\n",
            "Epoch: 37400 loss: 3308.06884765625\n",
            "Epoch: 37500 loss: 3290.875732421875\n",
            "Epoch: 37600 loss: 2890.5205078125\n",
            "Epoch: 37700 loss: 2467.980224609375\n",
            "Epoch: 37800 loss: 2732.38037109375\n",
            "Epoch: 37900 loss: 2639.33154296875\n",
            "Epoch: 38000 loss: 1875.705322265625\n",
            "Epoch: 38100 loss: 2069.79931640625\n",
            "Epoch: 38200 loss: 2099.4658203125\n",
            "Epoch: 38300 loss: 3227.86376953125\n",
            "Epoch: 38400 loss: 1864.871337890625\n",
            "Epoch: 38500 loss: 2253.678466796875\n",
            "Epoch: 38600 loss: 3314.849365234375\n",
            "Epoch: 38700 loss: 1923.024658203125\n",
            "Epoch: 38800 loss: 1958.79345703125\n",
            "Epoch: 38900 loss: 2951.28662109375\n",
            "Epoch: 39000 loss: 2329.388916015625\n",
            "Epoch: 39100 loss: 2918.77197265625\n",
            "Epoch: 39200 loss: 2834.668701171875\n",
            "Epoch: 39300 loss: 2520.25\n",
            "Epoch: 39400 loss: 2623.35986328125\n",
            "Epoch: 39500 loss: 2332.289306640625\n",
            "Epoch: 39600 loss: 3421.16162109375\n",
            "Epoch: 39700 loss: 2607.94921875\n",
            "Epoch: 39800 loss: 2889.190673828125\n",
            "Epoch: 39900 loss: 2539.19384765625\n",
            "Epoch: 40000 loss: 2410.462890625\n",
            "Epoch: 40100 loss: 3043.6689453125\n",
            "Epoch: 40200 loss: 2499.22314453125\n",
            "Epoch: 40300 loss: 2955.515625\n",
            "Epoch: 40400 loss: 3591.84423828125\n",
            "Epoch: 40500 loss: 2616.29638671875\n",
            "Epoch: 40600 loss: 2507.0419921875\n",
            "Epoch: 40700 loss: 2928.13623046875\n",
            "Epoch: 40800 loss: 2446.311767578125\n",
            "Epoch: 40900 loss: 2887.082275390625\n",
            "Epoch: 41000 loss: 2735.43798828125\n",
            "Epoch: 41100 loss: 3557.01611328125\n",
            "Epoch: 41200 loss: 2066.8515625\n",
            "Epoch: 41300 loss: 4134.8330078125\n",
            "Epoch: 41400 loss: 2134.832763671875\n",
            "Epoch: 41500 loss: 2510.252197265625\n",
            "Epoch: 41600 loss: 2055.191650390625\n",
            "Epoch: 41700 loss: 3905.2001953125\n",
            "Epoch: 41800 loss: 3689.34814453125\n",
            "Epoch: 41900 loss: 2608.903076171875\n",
            "Epoch: 42000 loss: 1986.2969970703125\n",
            "Epoch: 42100 loss: 2415.66357421875\n",
            "Epoch: 42200 loss: 2403.58349609375\n",
            "Epoch: 42300 loss: 2420.6376953125\n",
            "Epoch: 42400 loss: 2612.09521484375\n",
            "Epoch: 42500 loss: 3134.355224609375\n",
            "Epoch: 42600 loss: 3400.006103515625\n",
            "Epoch: 42700 loss: 2615.142333984375\n",
            "Epoch: 42800 loss: 3727.2763671875\n",
            "Epoch: 42900 loss: 3157.294189453125\n",
            "Epoch: 43000 loss: 3021.08056640625\n",
            "Epoch: 43100 loss: 2762.04150390625\n",
            "Epoch: 43200 loss: 2986.868408203125\n",
            "Epoch: 43300 loss: 2796.668212890625\n",
            "Epoch: 43400 loss: 2903.927490234375\n",
            "Epoch: 43500 loss: 1738.763671875\n",
            "Epoch: 43600 loss: 2383.236328125\n",
            "Epoch: 43700 loss: 4301.8154296875\n",
            "Epoch: 43800 loss: 3411.60009765625\n",
            "Epoch: 43900 loss: 2147.23193359375\n",
            "Epoch: 44000 loss: 2827.6298828125\n",
            "Epoch: 44100 loss: 2731.464111328125\n",
            "Epoch: 44200 loss: 2965.3662109375\n",
            "Epoch: 44300 loss: 1803.2530517578125\n",
            "Epoch: 44400 loss: 3602.2734375\n",
            "Epoch: 44500 loss: 2926.0771484375\n",
            "Epoch: 44600 loss: 2754.074462890625\n",
            "Epoch: 44700 loss: 2632.70654296875\n",
            "Epoch: 44800 loss: 4061.61083984375\n",
            "Epoch: 44900 loss: 2917.65380859375\n",
            "Epoch: 45000 loss: 2241.7236328125\n",
            "Epoch: 45100 loss: 2749.94140625\n",
            "Epoch: 45200 loss: 1876.3046875\n",
            "Epoch: 45300 loss: 2589.976318359375\n",
            "Epoch: 45400 loss: 2268.366943359375\n",
            "Epoch: 45500 loss: 3008.086669921875\n",
            "Epoch: 45600 loss: 3069.62158203125\n",
            "Epoch: 45700 loss: 2609.718017578125\n",
            "Epoch: 45800 loss: 2301.31591796875\n",
            "Epoch: 45900 loss: 2640.7802734375\n",
            "Epoch: 46000 loss: 2680.77978515625\n",
            "Epoch: 46100 loss: 2786.3349609375\n",
            "Epoch: 46200 loss: 3304.521484375\n",
            "Epoch: 46300 loss: 2818.254638671875\n",
            "Epoch: 46400 loss: 3214.326416015625\n",
            "Epoch: 46500 loss: 3161.45263671875\n",
            "Epoch: 46600 loss: 2520.6669921875\n",
            "Epoch: 46700 loss: 3712.6416015625\n",
            "Epoch: 46800 loss: 2001.070556640625\n",
            "Epoch: 46900 loss: 3788.98828125\n",
            "Epoch: 47000 loss: 2691.5498046875\n",
            "Epoch: 47100 loss: 2901.923828125\n",
            "Epoch: 47200 loss: 1616.744140625\n",
            "Epoch: 47300 loss: 4288.1064453125\n",
            "Epoch: 47400 loss: 3266.130615234375\n",
            "Epoch: 47500 loss: 2461.2646484375\n",
            "Epoch: 47600 loss: 2979.01220703125\n",
            "Epoch: 47700 loss: 3864.71484375\n",
            "Epoch: 47800 loss: 2544.54443359375\n",
            "Epoch: 47900 loss: 2152.493408203125\n",
            "Epoch: 48000 loss: 2410.17333984375\n",
            "Epoch: 48100 loss: 3105.6552734375\n",
            "Epoch: 48200 loss: 2692.57373046875\n",
            "Epoch: 48300 loss: 3341.69189453125\n",
            "Epoch: 48400 loss: 2840.96142578125\n",
            "Epoch: 48500 loss: 2690.77783203125\n",
            "Epoch: 48600 loss: 2329.175537109375\n",
            "Epoch: 48700 loss: 3625.8037109375\n",
            "Epoch: 48800 loss: 3297.68994140625\n",
            "Epoch: 48900 loss: 2859.9130859375\n",
            "Epoch: 49000 loss: 2199.05322265625\n",
            "Epoch: 49100 loss: 1891.457275390625\n",
            "Epoch: 49200 loss: 2320.6220703125\n",
            "Epoch: 49300 loss: 2846.465576171875\n",
            "Epoch: 49400 loss: 2995.22021484375\n",
            "Epoch: 49500 loss: 2397.895751953125\n",
            "Epoch: 49600 loss: 2480.05712890625\n",
            "Epoch: 49700 loss: 2863.97607421875\n",
            "Epoch: 49800 loss: 2191.21240234375\n",
            "Epoch: 49900 loss: 2861.36767578125\n"
          ]
        }
      ]
    },
    {
      "cell_type": "code",
      "source": [
        "print(f\"Train Score: {model.evaluate(X_train, y_train)}\")\n",
        "print(f\"Test Score: {model.evaluate(X_test, y_test)}\")"
      ],
      "metadata": {
        "colab": {
          "base_uri": "https://localhost:8080/"
        },
        "id": "Ln6HtS7JJG0-",
        "outputId": "a6364da5-d517-4b27-8947-9e97305f2c1d"
      },
      "execution_count": 19,
      "outputs": [
        {
          "output_type": "stream",
          "name": "stdout",
          "text": [
            "10/10 [==============================] - 0s 2ms/step - loss: 2826.7434\n",
            "Train Score: 2826.743408203125\n",
            "5/5 [==============================] - 0s 2ms/step - loss: 3058.8665\n",
            "Test Score: 3058.866455078125\n"
          ]
        }
      ]
    },
    {
      "cell_type": "code",
      "source": [
        "import matplotlib.pyplot as plt\n",
        "plt.plot(r.history[\"loss\"], label=\"loss\")\n",
        "plt.plot(r.history[\"val_loss\"], label=\"val_loss\")\n",
        "plt.legend();"
      ],
      "metadata": {
        "colab": {
          "base_uri": "https://localhost:8080/",
          "height": 430
        },
        "id": "Z1IiJr6sJhJu",
        "outputId": "c5e57075-a3e5-4a11-8ba2-7222d126c473"
      },
      "execution_count": 20,
      "outputs": [
        {
          "output_type": "display_data",
          "data": {
            "text/plain": [
              "<Figure size 640x480 with 1 Axes>"
            ],
            "image/png": "[encoded data removed]"
          },
          "metadata": {}
        }
      ]
    },
    {
      "cell_type": "code",
      "source": [
        "plt.plot(r.history[\"accuracy\"], label=\"accuracy\")\n",
        "plt.plot(r.history[\"val_accuracy\"], label=\"val_accuracy\")\n",
        "plt.legend();"
      ],
      "metadata": {
        "colab": {
          "base_uri": "https://localhost:8080/",
          "height": 430
        },
        "id": "Mnnqn0ljJ5AY",
        "outputId": "e6a39811-c8b4-47f6-fcfc-4b671db80e7d"
      },
      "execution_count": null,
      "outputs": [
        {
          "output_type": "display_data",
          "data": {
            "text/plain": [
              "<Figure size 640x480 with 1 Axes>"
            ],
            "image/png": "[encoded data removed]"
          },
          "metadata": {}
        }
      ]
    },
    {
      "cell_type": "code",
      "source": [
        "Yhat = model.predict(X_test).flatten()"
      ],
      "metadata": {
        "colab": {
          "base_uri": "https://localhost:8080/"
        },
        "id": "r9L8UIPrZ9jT",
        "outputId": "aae7d28d-f537-40e5-df9d-bc8233365545"
      },
      "execution_count": 53,
      "outputs": [
        {
          "output_type": "stream",
          "name": "stdout",
          "text": [
            "5/5 [==============================] - 0s 3ms/step\n"
          ]
        }
      ]
    },
    {
      "cell_type": "code",
      "source": [
        "w, b = model.layers[0].get_weights()\n",
        "Yhat2 = (X_test.dot(w) + b).flatten()\n",
        "import numpy as np\n",
        "np.allclose(Yhat, Yhat2)"
      ],
      "metadata": {
        "colab": {
          "base_uri": "https://localhost:8080/"
        },
        "id": "gcvVlOo8aPgf",
        "outputId": "e886c269-d9da-4c8d-9174-ddf91356b4d7"
      },
      "execution_count": 54,
      "outputs": [
        {
          "output_type": "execute_result",
          "data": {
            "text/plain": [
              "True"
            ]
          },
          "metadata": {},
          "execution_count": 54
        }
      ]
    },
    {
      "cell_type": "code",
      "source": [],
      "metadata": {
        "id": "0gw_P33XjKJP"
      },
      "execution_count": null,
      "outputs": []
    }
  ]
}